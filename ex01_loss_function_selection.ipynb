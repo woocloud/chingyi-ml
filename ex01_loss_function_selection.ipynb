{
  "nbformat": 4,
  "nbformat_minor": 0,
  "metadata": {
    "kernelspec": {
      "display_name": "Python 3",
      "language": "python",
      "name": "python3"
    },
    "language_info": {
      "codemirror_mode": {
        "name": "ipython",
        "version": 3
      },
      "file_extension": ".py",
      "mimetype": "text/x-python",
      "name": "python",
      "nbconvert_exporter": "python",
      "pygments_lexer": "ipython3",
      "version": "3.7.6"
    },
    "colab": {
      "provenance": [],
      "include_colab_link": true
    }
  },
  "cells": [
    {
      "cell_type": "markdown",
      "metadata": {
        "id": "view-in-github",
        "colab_type": "text"
      },
      "source": [
        "<a href=\"https://colab.research.google.com/github/woocloud/chingyi-ml/blob/main/ex01_loss_function_selection.ipynb\" target=\"_parent\"><img src=\"https://colab.research.google.com/assets/colab-badge.svg\" alt=\"Open In Colab\"/></a>"
      ]
    },
    {
      "cell_type": "code",
      "metadata": {
        "id": "PUJc1NJlcqHV",
        "colab": {
          "base_uri": "https://localhost:8080/",
          "height": 93
        },
        "outputId": "3a04663a-6320-48ed-eeeb-d09544a52cbf"
      },
      "source": [
        "#可以用files.upload()上傳pkgo_city66_class5_v1.csv，也可以直接使用colab左側欄位裡的資料夾圖示來選擇檔案上傳\n",
        "from google.colab import files\n",
        "uploaded = files.upload()      # 上傳檔案到 Colab\n",
        "!ls\n"
      ],
      "execution_count": null,
      "outputs": [
        {
          "output_type": "display_data",
          "data": {
            "text/plain": [
              "<IPython.core.display.HTML object>"
            ],
            "text/html": [
              "\n",
              "     <input type=\"file\" id=\"files-b5bbe14c-43f1-4abf-8d9e-7c2b9e01e014\" name=\"files[]\" multiple disabled\n",
              "        style=\"border:none\" />\n",
              "     <output id=\"result-b5bbe14c-43f1-4abf-8d9e-7c2b9e01e014\">\n",
              "      Upload widget is only available when the cell has been executed in the\n",
              "      current browser session. Please rerun this cell to enable.\n",
              "      </output>\n",
              "      <script>// Copyright 2017 Google LLC\n",
              "//\n",
              "// Licensed under the Apache License, Version 2.0 (the \"License\");\n",
              "// you may not use this file except in compliance with the License.\n",
              "// You may obtain a copy of the License at\n",
              "//\n",
              "//      http://www.apache.org/licenses/LICENSE-2.0\n",
              "//\n",
              "// Unless required by applicable law or agreed to in writing, software\n",
              "// distributed under the License is distributed on an \"AS IS\" BASIS,\n",
              "// WITHOUT WARRANTIES OR CONDITIONS OF ANY KIND, either express or implied.\n",
              "// See the License for the specific language governing permissions and\n",
              "// limitations under the License.\n",
              "\n",
              "/**\n",
              " * @fileoverview Helpers for google.colab Python module.\n",
              " */\n",
              "(function(scope) {\n",
              "function span(text, styleAttributes = {}) {\n",
              "  const element = document.createElement('span');\n",
              "  element.textContent = text;\n",
              "  for (const key of Object.keys(styleAttributes)) {\n",
              "    element.style[key] = styleAttributes[key];\n",
              "  }\n",
              "  return element;\n",
              "}\n",
              "\n",
              "// Max number of bytes which will be uploaded at a time.\n",
              "const MAX_PAYLOAD_SIZE = 100 * 1024;\n",
              "\n",
              "function _uploadFiles(inputId, outputId) {\n",
              "  const steps = uploadFilesStep(inputId, outputId);\n",
              "  const outputElement = document.getElementById(outputId);\n",
              "  // Cache steps on the outputElement to make it available for the next call\n",
              "  // to uploadFilesContinue from Python.\n",
              "  outputElement.steps = steps;\n",
              "\n",
              "  return _uploadFilesContinue(outputId);\n",
              "}\n",
              "\n",
              "// This is roughly an async generator (not supported in the browser yet),\n",
              "// where there are multiple asynchronous steps and the Python side is going\n",
              "// to poll for completion of each step.\n",
              "// This uses a Promise to block the python side on completion of each step,\n",
              "// then passes the result of the previous step as the input to the next step.\n",
              "function _uploadFilesContinue(outputId) {\n",
              "  const outputElement = document.getElementById(outputId);\n",
              "  const steps = outputElement.steps;\n",
              "\n",
              "  const next = steps.next(outputElement.lastPromiseValue);\n",
              "  return Promise.resolve(next.value.promise).then((value) => {\n",
              "    // Cache the last promise value to make it available to the next\n",
              "    // step of the generator.\n",
              "    outputElement.lastPromiseValue = value;\n",
              "    return next.value.response;\n",
              "  });\n",
              "}\n",
              "\n",
              "/**\n",
              " * Generator function which is called between each async step of the upload\n",
              " * process.\n",
              " * @param {string} inputId Element ID of the input file picker element.\n",
              " * @param {string} outputId Element ID of the output display.\n",
              " * @return {!Iterable<!Object>} Iterable of next steps.\n",
              " */\n",
              "function* uploadFilesStep(inputId, outputId) {\n",
              "  const inputElement = document.getElementById(inputId);\n",
              "  inputElement.disabled = false;\n",
              "\n",
              "  const outputElement = document.getElementById(outputId);\n",
              "  outputElement.innerHTML = '';\n",
              "\n",
              "  const pickedPromise = new Promise((resolve) => {\n",
              "    inputElement.addEventListener('change', (e) => {\n",
              "      resolve(e.target.files);\n",
              "    });\n",
              "  });\n",
              "\n",
              "  const cancel = document.createElement('button');\n",
              "  inputElement.parentElement.appendChild(cancel);\n",
              "  cancel.textContent = 'Cancel upload';\n",
              "  const cancelPromise = new Promise((resolve) => {\n",
              "    cancel.onclick = () => {\n",
              "      resolve(null);\n",
              "    };\n",
              "  });\n",
              "\n",
              "  // Wait for the user to pick the files.\n",
              "  const files = yield {\n",
              "    promise: Promise.race([pickedPromise, cancelPromise]),\n",
              "    response: {\n",
              "      action: 'starting',\n",
              "    }\n",
              "  };\n",
              "\n",
              "  cancel.remove();\n",
              "\n",
              "  // Disable the input element since further picks are not allowed.\n",
              "  inputElement.disabled = true;\n",
              "\n",
              "  if (!files) {\n",
              "    return {\n",
              "      response: {\n",
              "        action: 'complete',\n",
              "      }\n",
              "    };\n",
              "  }\n",
              "\n",
              "  for (const file of files) {\n",
              "    const li = document.createElement('li');\n",
              "    li.append(span(file.name, {fontWeight: 'bold'}));\n",
              "    li.append(span(\n",
              "        `(${file.type || 'n/a'}) - ${file.size} bytes, ` +\n",
              "        `last modified: ${\n",
              "            file.lastModifiedDate ? file.lastModifiedDate.toLocaleDateString() :\n",
              "                                    'n/a'} - `));\n",
              "    const percent = span('0% done');\n",
              "    li.appendChild(percent);\n",
              "\n",
              "    outputElement.appendChild(li);\n",
              "\n",
              "    const fileDataPromise = new Promise((resolve) => {\n",
              "      const reader = new FileReader();\n",
              "      reader.onload = (e) => {\n",
              "        resolve(e.target.result);\n",
              "      };\n",
              "      reader.readAsArrayBuffer(file);\n",
              "    });\n",
              "    // Wait for the data to be ready.\n",
              "    let fileData = yield {\n",
              "      promise: fileDataPromise,\n",
              "      response: {\n",
              "        action: 'continue',\n",
              "      }\n",
              "    };\n",
              "\n",
              "    // Use a chunked sending to avoid message size limits. See b/62115660.\n",
              "    let position = 0;\n",
              "    do {\n",
              "      const length = Math.min(fileData.byteLength - position, MAX_PAYLOAD_SIZE);\n",
              "      const chunk = new Uint8Array(fileData, position, length);\n",
              "      position += length;\n",
              "\n",
              "      const base64 = btoa(String.fromCharCode.apply(null, chunk));\n",
              "      yield {\n",
              "        response: {\n",
              "          action: 'append',\n",
              "          file: file.name,\n",
              "          data: base64,\n",
              "        },\n",
              "      };\n",
              "\n",
              "      let percentDone = fileData.byteLength === 0 ?\n",
              "          100 :\n",
              "          Math.round((position / fileData.byteLength) * 100);\n",
              "      percent.textContent = `${percentDone}% done`;\n",
              "\n",
              "    } while (position < fileData.byteLength);\n",
              "  }\n",
              "\n",
              "  // All done.\n",
              "  yield {\n",
              "    response: {\n",
              "      action: 'complete',\n",
              "    }\n",
              "  };\n",
              "}\n",
              "\n",
              "scope.google = scope.google || {};\n",
              "scope.google.colab = scope.google.colab || {};\n",
              "scope.google.colab._files = {\n",
              "  _uploadFiles,\n",
              "  _uploadFilesContinue,\n",
              "};\n",
              "})(self);\n",
              "</script> "
            ]
          },
          "metadata": {}
        },
        {
          "output_type": "stream",
          "name": "stdout",
          "text": [
            "Saving pkgo_city66_class5_v1.csv to pkgo_city66_class5_v1.csv\n",
            "pkgo_city66_class5_v1.csv  sample_data\n"
          ]
        }
      ]
    },
    {
      "cell_type": "code",
      "source": [
        "import numpy as np\n",
        "np.random.seed(1337)\n",
        "\n",
        "''' Read input files '''\n",
        "my_data = np.genfromtxt('pkgo_city66_class5_v1.csv', delimiter=',',skip_header=1)\n",
        "\n",
        "''' The first column to the 199th column is used as input features '''\n",
        "X_train = my_data[:,0:200]\n",
        "X_train = X_train.astype('float32')\n",
        "\n",
        "''' The 200-th column is the answer '''\n",
        "y_train = my_data[:,200]\n",
        "y_train = y_train.astype('int')\n",
        "\n",
        "''' Convert to one-hot encoding '''\n",
        "import tensorflow\n",
        "Y_train = tensorflow.keras.utils.to_categorical(y_train,5)\n",
        "\n",
        "''' Shuffle training data '''\n",
        "from sklearn.utils import shuffle\n",
        "X_train,Y_train = shuffle(X_train,Y_train,random_state=100)"
      ],
      "metadata": {
        "id": "Et6H_jdqe2aU"
      },
      "execution_count": null,
      "outputs": []
    },
    {
      "cell_type": "code",
      "metadata": {
        "colab": {
          "base_uri": "https://localhost:8080/"
        },
        "id": "Bb5LNz32pa17",
        "outputId": "3fafadb2-0385-4a44-aabd-89e01d7ad231"
      },
      "source": [
        "print(y_train[3])\n",
        "print(Y_train[3])\n"
      ],
      "execution_count": null,
      "outputs": [
        {
          "output_type": "stream",
          "name": "stdout",
          "text": [
            "1\n",
            "[0. 0. 0. 0. 1.]\n"
          ]
        }
      ]
    },
    {
      "cell_type": "markdown",
      "metadata": {
        "id": "Yh47oGK0cqHY"
      },
      "source": [
        "### Step 1: 引入需要的函式\n",
        "- 從 keras.models 裡 import Sequential\n",
        "- 從 keras.layers 裡 import Dense 和 Activation"
      ]
    },
    {
      "cell_type": "code",
      "metadata": {
        "id": "exEIWwVNcqHZ"
      },
      "source": [
        "from tensorflow.keras.models import Sequential\n",
        "from tensorflow.keras.layers import Dense, Activation\n",
        "from tensorflow.keras.optimizers import SGD"
      ],
      "execution_count": null,
      "outputs": []
    },
    {
      "cell_type": "markdown",
      "metadata": {
        "id": "_vZ1WmTecqHe"
      },
      "source": [
        "### Step 2: 宣告模型架構\n",
        "建立一個 Fully Connected Neural Network (input_dim = 200, output_dim = 5)\n",
        "- 宣告一個 Sequential 的模型\n",
        "- 加入 1st dense layer = 128 neurons using 'sigmoid' activation function\n",
        "- 加入 2nd dense layer = 256 neurons using 'sigmoid' activation function\n",
        "- 加入 3rd dense layer (output) = 5 neurons using 'softmax' activation function"
      ]
    },
    {
      "cell_type": "code",
      "metadata": {
        "id": "2gSX7KHacqHe"
      },
      "source": [
        "# Step 2 HERE\n",
        "# print 'Building a model whose loss function is categorical_crossentropy'\n",
        "''' For categorical_crossentropy '''\n",
        "model_ce = Sequential()\n",
        "model_ce.add(Dense(128, input_dim=200))\n",
        "model_ce.add(Activation('sigmoid'))\n",
        "model_ce.add(Dense(256))\n",
        "model_ce.add(Activation('sigmoid'))\n",
        "model_ce.add(Dense(5))\n",
        "model_ce.add(Activation('softmax'))"
      ],
      "execution_count": null,
      "outputs": []
    },
    {
      "cell_type": "code",
      "metadata": {
        "id": "h4pKzXincqHi"
      },
      "source": [
        "# print 'Building a model whose loss function is mean_squared_error'\n",
        "''' For mean_squared_error '''\n",
        "model_mse = Sequential()\n",
        "model_mse.add(Dense(128, input_dim=200 ))\n",
        "model_mse.add(Activation('sigmoid'))\n",
        "model_mse.add(Dense(256))\n",
        "model_mse.add(Activation('sigmoid'))\n",
        "model_mse.add(Dense(5))\n",
        "model_mse.add(Activation('softmax'))"
      ],
      "execution_count": null,
      "outputs": []
    },
    {
      "cell_type": "markdown",
      "metadata": {
        "id": "42unuiaZcqHl"
      },
      "source": [
        "### Step 3: 指定模型的優化器 (optimizer) 與 目標函數 (objective/loss function)\n",
        "- 從 keras.optimizers import SGD\n",
        "- 建立一個 SGD optimizer, learing rate=0.01 (lr=0.01)\n",
        "- 在 compile model 時，指定優化器與 loss function='categorical_crossentropy'"
      ]
    },
    {
      "cell_type": "code",
      "metadata": {
        "id": "rMr3or94cqHm"
      },
      "source": [
        "# Step 3 HERE\n",
        "''' Set up the optimizer '''\n",
        "from tensorflow.keras.optimizers import SGD, Adam, RMSprop, Adagrad\n",
        "sgd = SGD(learning_rate=0.01,momentum=0.0,nesterov=False)"
      ],
      "execution_count": null,
      "outputs": []
    },
    {
      "cell_type": "code",
      "metadata": {
        "id": "OvmvuRuwcqHo"
      },
      "source": [
        "# Do it here\n",
        "''' please use categorical_crossentropy as loss'''\n",
        "model_ce.compile(loss='categorical_crossentropy',\n",
        "\t\t\t\toptimizer='SGD',\n",
        "\t\t\t\tmetrics=['accuracy'])\n",
        "\n",
        "# Do it here\n",
        "''' please use mean_squared_error as loss'''\n",
        "model_mse.compile(loss= 'mse',\n",
        "         optimizer='SGD',\n",
        "         metrics=['accuracy'])"
      ],
      "execution_count": null,
      "outputs": []
    },
    {
      "cell_type": "markdown",
      "metadata": {
        "id": "wvLwTtmbcqHq"
      },
      "source": [
        "### Step 4: 設定 batch size 和 number of epochs"
      ]
    },
    {
      "cell_type": "code",
      "metadata": {
        "id": "00F_KUfZcqHr"
      },
      "source": [
        "# Step 4 HERE\n",
        "batch_size = 16\n",
        "epochs = 30"
      ],
      "execution_count": null,
      "outputs": []
    },
    {
      "cell_type": "markdown",
      "metadata": {
        "id": "qHzG0dXncqHt"
      },
      "source": [
        "### Step 5: 訓練模型 model.fit 並給入訓練資料和參數"
      ]
    },
    {
      "cell_type": "code",
      "metadata": {
        "id": "IWeycED-cqHt"
      },
      "source": [
        "# Step 5 HERE"
      ],
      "execution_count": null,
      "outputs": []
    },
    {
      "cell_type": "code",
      "metadata": {
        "id": "gyB3ryuFcqHv"
      },
      "source": [
        "'''Fit models and use validation_split=0.1 '''\n",
        "history_ce = model_ce.fit(X_train, Y_train,\n",
        "\t\t\t\t\t\t\tbatch_size=batch_size,\n",
        "\t\t\t\t\t\t\tepochs=epochs,\n",
        "\t\t\t\t\t\t\tverbose=0,\n",
        "\t\t\t\t\t\t\tshuffle=True,\n",
        "              validation_split=0.1)"
      ],
      "execution_count": null,
      "outputs": []
    },
    {
      "cell_type": "code",
      "metadata": {
        "id": "p21wmQYmcqHx"
      },
      "source": [
        "history_mse = model_mse.fit(X_train, Y_train,\n",
        "               batch_size=batch_size,\n",
        "               epochs=epochs,\n",
        "               verbose=0,\n",
        "               shuffle=True,\n",
        "               validation_split=0.1)"
      ],
      "execution_count": null,
      "outputs": []
    },
    {
      "cell_type": "code",
      "metadata": {
        "id": "zcbKBPMrcqHz",
        "colab": {
          "base_uri": "https://localhost:8080/",
          "height": 520
        },
        "outputId": "04db8dac-3eb3-4e37-886b-01abcedc7484"
      },
      "source": [
        "# Access the loss and accuracy in every epoch\n",
        "loss_ce\t= history_ce.history.get('loss')\n",
        "acc_ce \t= history_ce.history.get('accuracy')\n",
        "loss_mse= history_mse.history.get('loss')\n",
        "acc_mse = history_mse.history.get('accuracy')\n",
        "\n",
        "# Visualize the loss and accuracy of both models\n",
        "import matplotlib.pyplot as plt\n",
        "plt.figure(0,figsize=(8,6))\n",
        "plt.subplot(121)\n",
        "plt.plot(range(len(loss_ce)), loss_ce,label='CE')\n",
        "plt.plot(range(len(loss_mse)), loss_mse,label='MSE')\n",
        "plt.title('Loss')\n",
        "plt.xlabel(\"epoch\")\n",
        "plt.subplot(122)\n",
        "plt.plot(range(len(acc_ce)), acc_ce,label='CE')\n",
        "plt.plot(range(len(acc_mse)), acc_mse,label='MSE')\n",
        "plt.title('Accuracy')\n",
        "plt.xlabel(\"epoch\")\n",
        "plt.legend(loc='lower right')\n",
        "plt.tight_layout()\n",
        "plt.show()\n",
        "plt.savefig('01_lossFuncSelection.png',dpi=300,format='png')\n",
        "plt.close()"
      ],
      "execution_count": null,
      "outputs": [
        {
          "output_type": "display_data",
          "data": {
            "text/plain": [
              "<Figure size 800x600 with 2 Axes>"
            ],
            "image/png": "[encoded data removed]"
          },
          "metadata": {}
        }
      ]
    },
    {
      "cell_type": "code",
      "metadata": {
        "id": "abtm7rqNcqH2"
      },
      "source": [],
      "execution_count": null,
      "outputs": []
    }
  ]
}